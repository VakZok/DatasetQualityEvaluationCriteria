{
 "cells": [
  {
   "cell_type": "markdown",
   "source": [
    "# Imports"
   ],
   "metadata": {
    "collapsed": false
   },
   "id": "62cbad012827ac7a"
  },
  {
   "cell_type": "code",
   "execution_count": 16,
   "id": "initial_id",
   "metadata": {
    "collapsed": true,
    "ExecuteTime": {
     "end_time": "2023-12-26T20:46:31.825526Z",
     "start_time": "2023-12-26T20:46:31.824441Z"
    }
   },
   "outputs": [],
   "source": [
    "import os\n",
    "import pandas as pd"
   ]
  },
  {
   "cell_type": "markdown",
   "source": [
    "# Concatenate the datasets  "
   ],
   "metadata": {
    "collapsed": false
   },
   "id": "3773967726633165"
  },
  {
   "cell_type": "code",
   "execution_count": null,
   "outputs": [],
   "source": [
    "# Assuming 'path' is the path to the folder containing the datasets\n",
    "input_path = 'UCR_Datasets'\n",
    "\n",
    "# Directory to save the concatenated datasets\n",
    "output_path = 'Prepared_UCR_Datasets'\n",
    "if not os.path.exists(output_path):\n",
    "    os.makedirs(output_path)\n",
    "\n",
    "# List all files in the directory\n",
    "files = os.listdir(input_path)\n",
    "\n",
    "# Process each file\n",
    "for file in files:\n",
    "    if file.endswith('_TRAIN.tsv'):\n",
    "        base_name = file.replace('_TRAIN.tsv', '')\n",
    "        train_file = os.path.join(input_path, file)\n",
    "        test_file = os.path.join(input_path, base_name + '_TEST.tsv')\n",
    "\n",
    "        if os.path.exists(test_file):\n",
    "            # Read the train and test datasets\n",
    "            train_df = pd.read_csv(train_file, sep='\\t', header=None)\n",
    "            test_df = pd.read_csv(test_file, sep='\\t', header=None)\n",
    "\n",
    "            # Concatenate the datasets\n",
    "            concatenated_df = pd.concat([train_df, test_df], ignore_index=True)\n",
    "\n",
    "            # Save the concatenated dataset to a new TSV file\n",
    "            output_file = os.path.join(output_path, base_name + '.tsv')\n",
    "            concatenated_df.to_csv(output_file, sep='\\t', index=False, header=None)\n",
    "            print('Sucessfully concenated dataset: ' + output_file)\n",
    "\n",
    "print(\"Concatenated datasets have been saved in:\", output_path)"
   ],
   "metadata": {
    "collapsed": false
   },
   "id": "1dd6cabb59beb904"
  },
  {
   "cell_type": "code",
   "execution_count": 17,
   "outputs": [],
   "source": [],
   "metadata": {
    "collapsed": false,
    "ExecuteTime": {
     "end_time": "2023-12-26T20:47:42.309767Z",
     "start_time": "2023-12-26T20:47:42.302592Z"
    }
   },
   "id": "d68add4af2d7e6e9"
  }
 ],
 "metadata": {
  "kernelspec": {
   "display_name": "Python 3",
   "language": "python",
   "name": "python3"
  },
  "language_info": {
   "codemirror_mode": {
    "name": "ipython",
    "version": 2
   },
   "file_extension": ".py",
   "mimetype": "text/x-python",
   "name": "python",
   "nbconvert_exporter": "python",
   "pygments_lexer": "ipython2",
   "version": "2.7.6"
  }
 },
 "nbformat": 4,
 "nbformat_minor": 5
}

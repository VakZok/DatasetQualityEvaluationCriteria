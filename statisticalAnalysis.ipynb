{
 "cells": [
  {
   "cell_type": "markdown",
   "source": [
    "# Imports"
   ],
   "metadata": {
    "collapsed": false
   }
  },
  {
   "cell_type": "code",
   "execution_count": 10,
   "metadata": {
    "collapsed": true,
    "ExecuteTime": {
     "end_time": "2023-12-20T11:33:55.701232Z",
     "start_time": "2023-12-20T11:33:55.692744Z"
    }
   },
   "outputs": [],
   "source": [
    "import glob\n",
    "import pandas as pd\n",
    "import os\n",
    "from statsmodels.tsa.stattools import adfuller\n",
    "import evaluate"
   ]
  },
  {
   "cell_type": "code",
   "execution_count": 19,
   "outputs": [
    {
     "name": "stdout",
     "output_type": "stream",
     "text": [
      "Error while calculating ADF information for GunPointMaleVersusFemale_TEST: 0\n"
     ]
    },
    {
     "name": "stderr",
     "output_type": "stream",
     "text": [
      "/var/folders/j_/090xq_hs50389s6924ycbygh0000gn/T/ipykernel_2380/271971239.py:72: FutureWarning: The frame.append method is deprecated and will be removed from pandas in a future version. Use pandas.concat instead.\n",
      "  overview_df = overview_df.append(stat_info, ignore_index=True)\n"
     ]
    },
    {
     "name": "stdout",
     "output_type": "stream",
     "text": [
      "Error while calculating ADF information for BirdChicken_TRAIN: 0\n"
     ]
    },
    {
     "name": "stderr",
     "output_type": "stream",
     "text": [
      "/var/folders/j_/090xq_hs50389s6924ycbygh0000gn/T/ipykernel_2380/271971239.py:72: FutureWarning: The frame.append method is deprecated and will be removed from pandas in a future version. Use pandas.concat instead.\n",
      "  overview_df = overview_df.append(stat_info, ignore_index=True)\n"
     ]
    },
    {
     "name": "stdout",
     "output_type": "stream",
     "text": [
      "Error while calculating ADF information for ScreenType_TEST: 0\n"
     ]
    },
    {
     "name": "stderr",
     "output_type": "stream",
     "text": [
      "/var/folders/j_/090xq_hs50389s6924ycbygh0000gn/T/ipykernel_2380/271971239.py:72: FutureWarning: The frame.append method is deprecated and will be removed from pandas in a future version. Use pandas.concat instead.\n",
      "  overview_df = overview_df.append(stat_info, ignore_index=True)\n"
     ]
    },
    {
     "name": "stdout",
     "output_type": "stream",
     "text": [
      "Error while calculating ADF information for Earthquakes_TEST: 0\n"
     ]
    },
    {
     "name": "stderr",
     "output_type": "stream",
     "text": [
      "/var/folders/j_/090xq_hs50389s6924ycbygh0000gn/T/ipykernel_2380/271971239.py:72: FutureWarning: The frame.append method is deprecated and will be removed from pandas in a future version. Use pandas.concat instead.\n",
      "  overview_df = overview_df.append(stat_info, ignore_index=True)\n"
     ]
    },
    {
     "name": "stdout",
     "output_type": "stream",
     "text": [
      "Error while calculating ADF information for MixedShapesSmallTrain_TRAIN: 0\n"
     ]
    },
    {
     "name": "stderr",
     "output_type": "stream",
     "text": [
      "/var/folders/j_/090xq_hs50389s6924ycbygh0000gn/T/ipykernel_2380/271971239.py:72: FutureWarning: The frame.append method is deprecated and will be removed from pandas in a future version. Use pandas.concat instead.\n",
      "  overview_df = overview_df.append(stat_info, ignore_index=True)\n"
     ]
    },
    {
     "name": "stdout",
     "output_type": "stream",
     "text": [
      "Error while calculating ADF information for MiddlePhalanxOutlineAgeGroup_TEST: 0\n"
     ]
    },
    {
     "name": "stderr",
     "output_type": "stream",
     "text": [
      "/var/folders/j_/090xq_hs50389s6924ycbygh0000gn/T/ipykernel_2380/271971239.py:72: FutureWarning: The frame.append method is deprecated and will be removed from pandas in a future version. Use pandas.concat instead.\n",
      "  overview_df = overview_df.append(stat_info, ignore_index=True)\n"
     ]
    },
    {
     "ename": "KeyboardInterrupt",
     "evalue": "",
     "output_type": "error",
     "traceback": [
      "\u001B[0;31m---------------------------------------------------------------------------\u001B[0m",
      "\u001B[0;31mKeyboardInterrupt\u001B[0m                         Traceback (most recent call last)",
      "Input \u001B[0;32mIn [19]\u001B[0m, in \u001B[0;36m<cell line: 12>\u001B[0;34m()\u001B[0m\n\u001B[1;32m     63\u001B[0m \u001B[38;5;66;03m# Append ADF information with try-except blocks\u001B[39;00m\n\u001B[1;32m     64\u001B[0m \u001B[38;5;28;01mtry\u001B[39;00m:\n\u001B[0;32m---> 65\u001B[0m     adf_values \u001B[38;5;241m=\u001B[39m \u001B[43mdf\u001B[49m\u001B[38;5;241;43m.\u001B[39;49m\u001B[43mapply\u001B[49m\u001B[43m(\u001B[49m\u001B[38;5;28;43;01mlambda\u001B[39;49;00m\u001B[43m \u001B[49m\u001B[43mcol\u001B[49m\u001B[43m:\u001B[49m\u001B[43m \u001B[49m\u001B[43madfuller\u001B[49m\u001B[43m(\u001B[49m\u001B[43mcol\u001B[49m\u001B[43m)\u001B[49m\u001B[43m)\u001B[49m\n\u001B[1;32m     66\u001B[0m     stat_info[\u001B[38;5;124m'\u001B[39m\u001B[38;5;124mavg_adf\u001B[39m\u001B[38;5;124m'\u001B[39m] \u001B[38;5;241m=\u001B[39m adf_values[\u001B[38;5;241m0\u001B[39m]\u001B[38;5;241m.\u001B[39mmean()\n\u001B[1;32m     67\u001B[0m     stat_info[\u001B[38;5;124m'\u001B[39m\u001B[38;5;124mavg_pvalue\u001B[39m\u001B[38;5;124m'\u001B[39m] \u001B[38;5;241m=\u001B[39m adf_values[\u001B[38;5;241m1\u001B[39m]\u001B[38;5;241m.\u001B[39mmean()\n",
      "File \u001B[0;32m~/opt/anaconda3/lib/python3.9/site-packages/pandas/core/frame.py:8848\u001B[0m, in \u001B[0;36mDataFrame.apply\u001B[0;34m(self, func, axis, raw, result_type, args, **kwargs)\u001B[0m\n\u001B[1;32m   8837\u001B[0m \u001B[38;5;28;01mfrom\u001B[39;00m \u001B[38;5;21;01mpandas\u001B[39;00m\u001B[38;5;21;01m.\u001B[39;00m\u001B[38;5;21;01mcore\u001B[39;00m\u001B[38;5;21;01m.\u001B[39;00m\u001B[38;5;21;01mapply\u001B[39;00m \u001B[38;5;28;01mimport\u001B[39;00m frame_apply\n\u001B[1;32m   8839\u001B[0m op \u001B[38;5;241m=\u001B[39m frame_apply(\n\u001B[1;32m   8840\u001B[0m     \u001B[38;5;28mself\u001B[39m,\n\u001B[1;32m   8841\u001B[0m     func\u001B[38;5;241m=\u001B[39mfunc,\n\u001B[0;32m   (...)\u001B[0m\n\u001B[1;32m   8846\u001B[0m     kwargs\u001B[38;5;241m=\u001B[39mkwargs,\n\u001B[1;32m   8847\u001B[0m )\n\u001B[0;32m-> 8848\u001B[0m \u001B[38;5;28;01mreturn\u001B[39;00m \u001B[43mop\u001B[49m\u001B[38;5;241;43m.\u001B[39;49m\u001B[43mapply\u001B[49m\u001B[43m(\u001B[49m\u001B[43m)\u001B[49m\u001B[38;5;241m.\u001B[39m__finalize__(\u001B[38;5;28mself\u001B[39m, method\u001B[38;5;241m=\u001B[39m\u001B[38;5;124m\"\u001B[39m\u001B[38;5;124mapply\u001B[39m\u001B[38;5;124m\"\u001B[39m)\n",
      "File \u001B[0;32m~/opt/anaconda3/lib/python3.9/site-packages/pandas/core/apply.py:733\u001B[0m, in \u001B[0;36mFrameApply.apply\u001B[0;34m(self)\u001B[0m\n\u001B[1;32m    730\u001B[0m \u001B[38;5;28;01melif\u001B[39;00m \u001B[38;5;28mself\u001B[39m\u001B[38;5;241m.\u001B[39mraw:\n\u001B[1;32m    731\u001B[0m     \u001B[38;5;28;01mreturn\u001B[39;00m \u001B[38;5;28mself\u001B[39m\u001B[38;5;241m.\u001B[39mapply_raw()\n\u001B[0;32m--> 733\u001B[0m \u001B[38;5;28;01mreturn\u001B[39;00m \u001B[38;5;28;43mself\u001B[39;49m\u001B[38;5;241;43m.\u001B[39;49m\u001B[43mapply_standard\u001B[49m\u001B[43m(\u001B[49m\u001B[43m)\u001B[49m\n",
      "File \u001B[0;32m~/opt/anaconda3/lib/python3.9/site-packages/pandas/core/apply.py:857\u001B[0m, in \u001B[0;36mFrameApply.apply_standard\u001B[0;34m(self)\u001B[0m\n\u001B[1;32m    856\u001B[0m \u001B[38;5;28;01mdef\u001B[39;00m \u001B[38;5;21mapply_standard\u001B[39m(\u001B[38;5;28mself\u001B[39m):\n\u001B[0;32m--> 857\u001B[0m     results, res_index \u001B[38;5;241m=\u001B[39m \u001B[38;5;28;43mself\u001B[39;49m\u001B[38;5;241;43m.\u001B[39;49m\u001B[43mapply_series_generator\u001B[49m\u001B[43m(\u001B[49m\u001B[43m)\u001B[49m\n\u001B[1;32m    859\u001B[0m     \u001B[38;5;66;03m# wrap results\u001B[39;00m\n\u001B[1;32m    860\u001B[0m     \u001B[38;5;28;01mreturn\u001B[39;00m \u001B[38;5;28mself\u001B[39m\u001B[38;5;241m.\u001B[39mwrap_results(results, res_index)\n",
      "File \u001B[0;32m~/opt/anaconda3/lib/python3.9/site-packages/pandas/core/apply.py:873\u001B[0m, in \u001B[0;36mFrameApply.apply_series_generator\u001B[0;34m(self)\u001B[0m\n\u001B[1;32m    870\u001B[0m \u001B[38;5;28;01mwith\u001B[39;00m option_context(\u001B[38;5;124m\"\u001B[39m\u001B[38;5;124mmode.chained_assignment\u001B[39m\u001B[38;5;124m\"\u001B[39m, \u001B[38;5;28;01mNone\u001B[39;00m):\n\u001B[1;32m    871\u001B[0m     \u001B[38;5;28;01mfor\u001B[39;00m i, v \u001B[38;5;129;01min\u001B[39;00m \u001B[38;5;28menumerate\u001B[39m(series_gen):\n\u001B[1;32m    872\u001B[0m         \u001B[38;5;66;03m# ignore SettingWithCopy here in case the user mutates\u001B[39;00m\n\u001B[0;32m--> 873\u001B[0m         results[i] \u001B[38;5;241m=\u001B[39m \u001B[38;5;28;43mself\u001B[39;49m\u001B[38;5;241;43m.\u001B[39;49m\u001B[43mf\u001B[49m\u001B[43m(\u001B[49m\u001B[43mv\u001B[49m\u001B[43m)\u001B[49m\n\u001B[1;32m    874\u001B[0m         \u001B[38;5;28;01mif\u001B[39;00m \u001B[38;5;28misinstance\u001B[39m(results[i], ABCSeries):\n\u001B[1;32m    875\u001B[0m             \u001B[38;5;66;03m# If we have a view on v, we need to make a copy because\u001B[39;00m\n\u001B[1;32m    876\u001B[0m             \u001B[38;5;66;03m#  series_generator will swap out the underlying data\u001B[39;00m\n\u001B[1;32m    877\u001B[0m             results[i] \u001B[38;5;241m=\u001B[39m results[i]\u001B[38;5;241m.\u001B[39mcopy(deep\u001B[38;5;241m=\u001B[39m\u001B[38;5;28;01mFalse\u001B[39;00m)\n",
      "Input \u001B[0;32mIn [19]\u001B[0m, in \u001B[0;36m<lambda>\u001B[0;34m(col)\u001B[0m\n\u001B[1;32m     63\u001B[0m \u001B[38;5;66;03m# Append ADF information with try-except blocks\u001B[39;00m\n\u001B[1;32m     64\u001B[0m \u001B[38;5;28;01mtry\u001B[39;00m:\n\u001B[0;32m---> 65\u001B[0m     adf_values \u001B[38;5;241m=\u001B[39m df\u001B[38;5;241m.\u001B[39mapply(\u001B[38;5;28;01mlambda\u001B[39;00m col: \u001B[43madfuller\u001B[49m\u001B[43m(\u001B[49m\u001B[43mcol\u001B[49m\u001B[43m)\u001B[49m)\n\u001B[1;32m     66\u001B[0m     stat_info[\u001B[38;5;124m'\u001B[39m\u001B[38;5;124mavg_adf\u001B[39m\u001B[38;5;124m'\u001B[39m] \u001B[38;5;241m=\u001B[39m adf_values[\u001B[38;5;241m0\u001B[39m]\u001B[38;5;241m.\u001B[39mmean()\n\u001B[1;32m     67\u001B[0m     stat_info[\u001B[38;5;124m'\u001B[39m\u001B[38;5;124mavg_pvalue\u001B[39m\u001B[38;5;124m'\u001B[39m] \u001B[38;5;241m=\u001B[39m adf_values[\u001B[38;5;241m1\u001B[39m]\u001B[38;5;241m.\u001B[39mmean()\n",
      "File \u001B[0;32m~/opt/anaconda3/lib/python3.9/site-packages/statsmodels/tsa/stattools.py:321\u001B[0m, in \u001B[0;36madfuller\u001B[0;34m(x, maxlag, regression, autolag, store, regresults)\u001B[0m\n\u001B[1;32m    315\u001B[0m \u001B[38;5;66;03m# 1 for level\u001B[39;00m\n\u001B[1;32m    316\u001B[0m \u001B[38;5;66;03m# search for lag length with smallest information criteria\u001B[39;00m\n\u001B[1;32m    317\u001B[0m \u001B[38;5;66;03m# Note: use the same number of observations to have comparable IC\u001B[39;00m\n\u001B[1;32m    318\u001B[0m \u001B[38;5;66;03m# aic and bic: smaller is better\u001B[39;00m\n\u001B[1;32m    320\u001B[0m \u001B[38;5;28;01mif\u001B[39;00m \u001B[38;5;129;01mnot\u001B[39;00m regresults:\n\u001B[0;32m--> 321\u001B[0m     icbest, bestlag \u001B[38;5;241m=\u001B[39m \u001B[43m_autolag\u001B[49m\u001B[43m(\u001B[49m\n\u001B[1;32m    322\u001B[0m \u001B[43m        \u001B[49m\u001B[43mOLS\u001B[49m\u001B[43m,\u001B[49m\u001B[43m \u001B[49m\u001B[43mxdshort\u001B[49m\u001B[43m,\u001B[49m\u001B[43m \u001B[49m\u001B[43mfullRHS\u001B[49m\u001B[43m,\u001B[49m\u001B[43m \u001B[49m\u001B[43mstartlag\u001B[49m\u001B[43m,\u001B[49m\u001B[43m \u001B[49m\u001B[43mmaxlag\u001B[49m\u001B[43m,\u001B[49m\u001B[43m \u001B[49m\u001B[43mautolag\u001B[49m\n\u001B[1;32m    323\u001B[0m \u001B[43m    \u001B[49m\u001B[43m)\u001B[49m\n\u001B[1;32m    324\u001B[0m \u001B[38;5;28;01melse\u001B[39;00m:\n\u001B[1;32m    325\u001B[0m     icbest, bestlag, alres \u001B[38;5;241m=\u001B[39m _autolag(\n\u001B[1;32m    326\u001B[0m         OLS,\n\u001B[1;32m    327\u001B[0m         xdshort,\n\u001B[0;32m   (...)\u001B[0m\n\u001B[1;32m    332\u001B[0m         regresults\u001B[38;5;241m=\u001B[39mregresults,\n\u001B[1;32m    333\u001B[0m     )\n",
      "File \u001B[0;32m~/opt/anaconda3/lib/python3.9/site-packages/statsmodels/tsa/stattools.py:130\u001B[0m, in \u001B[0;36m_autolag\u001B[0;34m(mod, endog, exog, startlag, maxlag, method, modargs, fitargs, regresults)\u001B[0m\n\u001B[1;32m    128\u001B[0m \u001B[38;5;28;01mfor\u001B[39;00m lag \u001B[38;5;129;01min\u001B[39;00m \u001B[38;5;28mrange\u001B[39m(startlag, startlag \u001B[38;5;241m+\u001B[39m maxlag \u001B[38;5;241m+\u001B[39m \u001B[38;5;241m1\u001B[39m):\n\u001B[1;32m    129\u001B[0m     mod_instance \u001B[38;5;241m=\u001B[39m mod(endog, exog[:, :lag], \u001B[38;5;241m*\u001B[39mmodargs)\n\u001B[0;32m--> 130\u001B[0m     results[lag] \u001B[38;5;241m=\u001B[39m \u001B[43mmod_instance\u001B[49m\u001B[38;5;241;43m.\u001B[39;49m\u001B[43mfit\u001B[49m\u001B[43m(\u001B[49m\u001B[43m)\u001B[49m\n\u001B[1;32m    132\u001B[0m \u001B[38;5;28;01mif\u001B[39;00m method \u001B[38;5;241m==\u001B[39m \u001B[38;5;124m\"\u001B[39m\u001B[38;5;124maic\u001B[39m\u001B[38;5;124m\"\u001B[39m:\n\u001B[1;32m    133\u001B[0m     icbest, bestlag \u001B[38;5;241m=\u001B[39m \u001B[38;5;28mmin\u001B[39m((v\u001B[38;5;241m.\u001B[39maic, k) \u001B[38;5;28;01mfor\u001B[39;00m k, v \u001B[38;5;129;01min\u001B[39;00m results\u001B[38;5;241m.\u001B[39mitems())\n",
      "File \u001B[0;32m~/opt/anaconda3/lib/python3.9/site-packages/statsmodels/regression/linear_model.py:306\u001B[0m, in \u001B[0;36mRegressionModel.fit\u001B[0;34m(self, method, cov_type, cov_kwds, use_t, **kwargs)\u001B[0m\n\u001B[1;32m    301\u001B[0m \u001B[38;5;28;01mif\u001B[39;00m method \u001B[38;5;241m==\u001B[39m \u001B[38;5;124m\"\u001B[39m\u001B[38;5;124mpinv\u001B[39m\u001B[38;5;124m\"\u001B[39m:\n\u001B[1;32m    302\u001B[0m     \u001B[38;5;28;01mif\u001B[39;00m \u001B[38;5;129;01mnot\u001B[39;00m (\u001B[38;5;28mhasattr\u001B[39m(\u001B[38;5;28mself\u001B[39m, \u001B[38;5;124m'\u001B[39m\u001B[38;5;124mpinv_wexog\u001B[39m\u001B[38;5;124m'\u001B[39m) \u001B[38;5;129;01mand\u001B[39;00m\n\u001B[1;32m    303\u001B[0m             \u001B[38;5;28mhasattr\u001B[39m(\u001B[38;5;28mself\u001B[39m, \u001B[38;5;124m'\u001B[39m\u001B[38;5;124mnormalized_cov_params\u001B[39m\u001B[38;5;124m'\u001B[39m) \u001B[38;5;129;01mand\u001B[39;00m\n\u001B[1;32m    304\u001B[0m             \u001B[38;5;28mhasattr\u001B[39m(\u001B[38;5;28mself\u001B[39m, \u001B[38;5;124m'\u001B[39m\u001B[38;5;124mrank\u001B[39m\u001B[38;5;124m'\u001B[39m)):\n\u001B[0;32m--> 306\u001B[0m         \u001B[38;5;28mself\u001B[39m\u001B[38;5;241m.\u001B[39mpinv_wexog, singular_values \u001B[38;5;241m=\u001B[39m \u001B[43mpinv_extended\u001B[49m\u001B[43m(\u001B[49m\u001B[38;5;28;43mself\u001B[39;49m\u001B[38;5;241;43m.\u001B[39;49m\u001B[43mwexog\u001B[49m\u001B[43m)\u001B[49m\n\u001B[1;32m    307\u001B[0m         \u001B[38;5;28mself\u001B[39m\u001B[38;5;241m.\u001B[39mnormalized_cov_params \u001B[38;5;241m=\u001B[39m np\u001B[38;5;241m.\u001B[39mdot(\n\u001B[1;32m    308\u001B[0m             \u001B[38;5;28mself\u001B[39m\u001B[38;5;241m.\u001B[39mpinv_wexog, np\u001B[38;5;241m.\u001B[39mtranspose(\u001B[38;5;28mself\u001B[39m\u001B[38;5;241m.\u001B[39mpinv_wexog))\n\u001B[1;32m    310\u001B[0m         \u001B[38;5;66;03m# Cache these singular values for use later.\u001B[39;00m\n",
      "File \u001B[0;32m~/opt/anaconda3/lib/python3.9/site-packages/statsmodels/tools/tools.py:339\u001B[0m, in \u001B[0;36mpinv_extended\u001B[0;34m(x, rcond)\u001B[0m\n\u001B[1;32m    337\u001B[0m x \u001B[38;5;241m=\u001B[39m np\u001B[38;5;241m.\u001B[39masarray(x)\n\u001B[1;32m    338\u001B[0m x \u001B[38;5;241m=\u001B[39m x\u001B[38;5;241m.\u001B[39mconjugate()\n\u001B[0;32m--> 339\u001B[0m u, s, vt \u001B[38;5;241m=\u001B[39m \u001B[43mnp\u001B[49m\u001B[38;5;241;43m.\u001B[39;49m\u001B[43mlinalg\u001B[49m\u001B[38;5;241;43m.\u001B[39;49m\u001B[43msvd\u001B[49m\u001B[43m(\u001B[49m\u001B[43mx\u001B[49m\u001B[43m,\u001B[49m\u001B[43m \u001B[49m\u001B[38;5;28;43;01mFalse\u001B[39;49;00m\u001B[43m)\u001B[49m\n\u001B[1;32m    340\u001B[0m s_orig \u001B[38;5;241m=\u001B[39m np\u001B[38;5;241m.\u001B[39mcopy(s)\n\u001B[1;32m    341\u001B[0m m \u001B[38;5;241m=\u001B[39m u\u001B[38;5;241m.\u001B[39mshape[\u001B[38;5;241m0\u001B[39m]\n",
      "File \u001B[0;32m<__array_function__ internals>:200\u001B[0m, in \u001B[0;36msvd\u001B[0;34m(*args, **kwargs)\u001B[0m\n",
      "File \u001B[0;32m~/opt/anaconda3/lib/python3.9/site-packages/numpy/linalg/linalg.py:1642\u001B[0m, in \u001B[0;36msvd\u001B[0;34m(a, full_matrices, compute_uv, hermitian)\u001B[0m\n\u001B[1;32m   1639\u001B[0m         gufunc \u001B[38;5;241m=\u001B[39m _umath_linalg\u001B[38;5;241m.\u001B[39msvd_n_s\n\u001B[1;32m   1641\u001B[0m signature \u001B[38;5;241m=\u001B[39m \u001B[38;5;124m'\u001B[39m\u001B[38;5;124mD->DdD\u001B[39m\u001B[38;5;124m'\u001B[39m \u001B[38;5;28;01mif\u001B[39;00m isComplexType(t) \u001B[38;5;28;01melse\u001B[39;00m \u001B[38;5;124m'\u001B[39m\u001B[38;5;124md->ddd\u001B[39m\u001B[38;5;124m'\u001B[39m\n\u001B[0;32m-> 1642\u001B[0m u, s, vh \u001B[38;5;241m=\u001B[39m \u001B[43mgufunc\u001B[49m\u001B[43m(\u001B[49m\u001B[43ma\u001B[49m\u001B[43m,\u001B[49m\u001B[43m \u001B[49m\u001B[43msignature\u001B[49m\u001B[38;5;241;43m=\u001B[39;49m\u001B[43msignature\u001B[49m\u001B[43m,\u001B[49m\u001B[43m \u001B[49m\u001B[43mextobj\u001B[49m\u001B[38;5;241;43m=\u001B[39;49m\u001B[43mextobj\u001B[49m\u001B[43m)\u001B[49m\n\u001B[1;32m   1643\u001B[0m u \u001B[38;5;241m=\u001B[39m u\u001B[38;5;241m.\u001B[39mastype(result_t, copy\u001B[38;5;241m=\u001B[39m\u001B[38;5;28;01mFalse\u001B[39;00m)\n\u001B[1;32m   1644\u001B[0m s \u001B[38;5;241m=\u001B[39m s\u001B[38;5;241m.\u001B[39mastype(_realType(result_t), copy\u001B[38;5;241m=\u001B[39m\u001B[38;5;28;01mFalse\u001B[39;00m)\n",
      "\u001B[0;31mKeyboardInterrupt\u001B[0m: "
     ]
    }
   ],
   "source": [
    "# Use glob to get a list of TSV file paths in the folder\n",
    "tsv_files = glob.glob(os.path.join(\"UCR_Datasets\", '*.tsv'))\n",
    "\n",
    "# Initialize an empty DataFrame\n",
    "columns = ['dataset_name', 'num_instances', 'num_features', 'num_classes', 'label_skew', 'num_missing_values', 'perc_missing_values', 'num_duplicate_instances', 'perc_duplicate_instances', 'avg_autocorrelation', 'avg_adf', 'avg_pvalue']\n",
    "overview_df = pd.DataFrame(columns=columns)\n",
    "\n",
    "# Preparing the Huggingface Evauation of label distribution\n",
    "distribution = evaluate.load(\"label_distribution\")\n",
    "\n",
    "# Loop through each TSV file and read it into a DataFrame - append the name of the file\n",
    "for tsv_file in tsv_files:\n",
    "    # Read the TSV file into a DataFrame\n",
    "    df = pd.read_csv(tsv_file, sep='\\t')\n",
    "\n",
    "    # Extract the dataset name from the file path\n",
    "    dataset_name = os.path.splitext(os.path.basename(tsv_file))[0]\n",
    "\n",
    "    # Initialize an empty dictionary to store the statistical information\n",
    "    stat_info = {}\n",
    "    \n",
    "    # Append basic statistical information\n",
    "    try:\n",
    "        # dataset name\n",
    "        stat_info['dataset_name'] = dataset_name\n",
    "        \n",
    "        # number of rows/instances\n",
    "        stat_info['num_instances'] = df.shape[0]\n",
    "\n",
    "        # number of columns/features; subtract 1 for the class label\n",
    "        stat_info['num_features'] = df.shape[1] - 1\n",
    "\n",
    "        # select the first column (class label) and get the number of unique values\n",
    "        stat_info['num_classes'] = len(df.iloc[:, 0].unique())\n",
    "\n",
    "        # first sum: sum of missing values per column, second sum: sum of all columns\n",
    "        stat_info['num_missing_values'] = df.isnull().sum().sum()   \n",
    "        stat_info['perc_missing_values'] = (stat_info['num_missing_values'] / (stat_info['num_instances'] * stat_info['num_features'])) * 100\n",
    "        \n",
    "        # number of duplicate instances\n",
    "        # keep=False marks all duplicates as True, sum() counts the Trues\n",
    "        stat_info['num_duplicate_instances'] = df.duplicated().sum()\n",
    "        stat_info['perc_duplicate_instances'] = (stat_info['num_duplicate_instances'] / stat_info['num_instances']) * 100\n",
    "    except Exception as e:\n",
    "        print(f\"Error while calculating basic statistical information for {str(dataset_name)}: {str(e)}\")\n",
    "\n",
    "    try:\n",
    "        # get values of the first column (class labels)\n",
    "        label_values = df.iloc[:, 0].values\n",
    "        result = distribution.compute(data=label_values)\n",
    "\n",
    "        # Append label skew information\n",
    "        stat_info['label_skew'] = result['label_skew']\n",
    "    except Exception as e:\n",
    "        print(f\"Error while calculating label skew for {str(dataset_name)}: {str(e)}\")\n",
    "        \n",
    "    # Append autocorrelation information with try-except blocks\n",
    "    try:\n",
    "        stat_info['avg_autocorrelation'] = df.apply(lambda col: col.autocorr()).mean()\n",
    "    except Exception as e:\n",
    "        print(f\"Error while calculating autocorrelation for {str(dataset_name)}: {str(e)}\")\n",
    "\n",
    "    # Append ADF information with try-except blocks\n",
    "    try:\n",
    "        adf_values = df.apply(lambda col: adfuller(col))\n",
    "        stat_info['avg_adf'] = adf_values[0].mean()\n",
    "        stat_info['avg_pvalue'] = adf_values[1].mean()\n",
    "    except Exception as e:\n",
    "        print(f\"Error while calculating ADF information for {str(dataset_name)}: {str(e)}\")\n",
    "        \n",
    "    # Append the dictionary to the dataframe\n",
    "    overview_df = overview_df.append(stat_info, ignore_index=True)\n",
    "    \n",
    "overview_df.to_csv('overview_extra.csv', index=False)"
   ],
   "metadata": {
    "collapsed": false,
    "ExecuteTime": {
     "end_time": "2023-12-20T12:17:15.785305Z",
     "start_time": "2023-12-20T12:16:24.447655Z"
    }
   }
  },
  {
   "cell_type": "code",
   "execution_count": 11,
   "outputs": [],
   "source": [],
   "metadata": {
    "collapsed": false,
    "ExecuteTime": {
     "end_time": "2023-12-20T11:34:21.605821Z",
     "start_time": "2023-12-20T11:34:21.602186Z"
    }
   }
  }
 ],
 "metadata": {
  "kernelspec": {
   "display_name": "Python 3",
   "language": "python",
   "name": "python3"
  },
  "language_info": {
   "codemirror_mode": {
    "name": "ipython",
    "version": 2
   },
   "file_extension": ".py",
   "mimetype": "text/x-python",
   "name": "python",
   "nbconvert_exporter": "python",
   "pygments_lexer": "ipython2",
   "version": "2.7.6"
  }
 },
 "nbformat": 4,
 "nbformat_minor": 0
}

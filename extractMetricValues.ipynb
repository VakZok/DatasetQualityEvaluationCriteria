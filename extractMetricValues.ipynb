{
 "cells": [
  {
   "cell_type": "markdown",
   "source": [
    "# Imports"
   ],
   "metadata": {
    "collapsed": false
   }
  },
  {
   "cell_type": "code",
   "execution_count": 10,
   "metadata": {
    "collapsed": true,
    "ExecuteTime": {
     "end_time": "2023-12-27T15:14:30.459699Z",
     "start_time": "2023-12-27T15:14:30.332683Z"
    }
   },
   "outputs": [],
   "source": [
    "import glob\n",
    "import os\n",
    "import pandas as pd\n",
    "import evaluate"
   ]
  },
  {
   "cell_type": "markdown",
   "source": [
    "# Generating statistics"
   ],
   "metadata": {
    "collapsed": false
   }
  },
  {
   "cell_type": "code",
   "execution_count": null,
   "outputs": [],
   "source": [
    "# Setup folder path for the prepared UCR datasets (TSV files)\n",
    "prepared_datasets_folder_path = \"Prepared_UCR_Datasets\"\n",
    "\n",
    "# Use glob to get a list of TSV file paths in the folder\n",
    "tsv_files = glob.glob(os.path.join(prepared_datasets_folder_path, '*.tsv'))\n",
    "\n",
    "# Initialize an empty DataFrame\n",
    "columns = ['dataset_name', 'num_instances_train', 'num_instances_test', 'train_test_ratio', 'num_features', 'num_classes', 'label_skew', 'euclidean_distance', 'dynamic_time_warping_learned', 'dynamic_time_warping_fixed', 'default_rate', 'num_missing_values', 'perc_missing_values', 'num_duplicate_instances', 'perc_duplicate_instances', 'avg_autocorrelation']\n",
    "\n",
    "overview_df = pd.DataFrame(columns=columns)\n",
    "\n",
    "# Preparing the Huggingface Evaluation of label distribution\n",
    "distribution = evaluate.load(\"label_distribution\")\n",
    "\n",
    "# Loop through each TSV file and read it into a DataFrame - append the name of the file\n",
    "for tsv_file in tsv_files:\n",
    "    # Read the TSV file into a DataFrame\n",
    "    df = pd.read_csv(tsv_file, sep='\\t', header=None)\n",
    "\n",
    "    # Extract the dataset name from the file path\n",
    "    dataset_name = os.path.splitext(os.path.basename(tsv_file))[0]\n",
    "\n",
    "    # Initialize an empty dictionary to store the statistical information\n",
    "    stat_info = {}\n",
    "    \n",
    "    # Append basic statistical information\n",
    "    try:\n",
    "        # dataset name\n",
    "        stat_info['dataset_name'] = dataset_name\n",
    "        \n",
    "        # number of features\n",
    "        stat_info['num_features'] = df.shape[1] - 1\n",
    "        \n",
    "        # first sum: sum of missing values per column, second sum: sum of all columns\n",
    "        stat_info['num_missing_values'] = df.isnull().sum().sum()   \n",
    "        \n",
    "        # number of duplicate instances\n",
    "        # keep=False marks all duplicates as True, sum() counts the Trues\n",
    "        stat_info['num_duplicate_instances'] = df.duplicated().sum()\n",
    "    except Exception as e:\n",
    "        print(f\"Error while calculating basic statistical information for {str(dataset_name)}: {str(e)}\")\n",
    "\n",
    "    # Append label skew information\n",
    "    try:\n",
    "        # get values of the first column (class labels)\n",
    "        label_values = df.iloc[:, 0].values\n",
    "        result = distribution.compute(data=label_values)\n",
    "\n",
    "        # Append label skew information\n",
    "        stat_info['label_skew'] = result['label_skew']\n",
    "    except Exception as e:\n",
    "        print(f\"Error while calculating label skew for {str(dataset_name)}: {str(e)}\")\n",
    "    \n",
    "    \n",
    "    # Append autocorrelation information with try-except blocks\n",
    "    try:\n",
    "        stat_info['avg_autocorrelation'] = df.apply(lambda col: col.autocorr()).mean()\n",
    "    except Exception as e:\n",
    "        print(f\"Error while calculating autocorrelation for {str(dataset_name)}: {str(e)}\")\n",
    "            \n",
    "    # Turn the dictionary into a DataFrame\n",
    "    stat_info_df = pd.DataFrame([stat_info])\n",
    "    \n",
    "    # Append the statistical information to the DataFrame\n",
    "    overview_df = pd.concat([overview_df, stat_info_df], ignore_index=True)\n",
    "    \n",
    "overview_df.to_csv('extractedMetrics.csv', index=False)"
   ],
   "metadata": {
    "collapsed": false
   }
  },
  {
   "cell_type": "code",
   "execution_count": null,
   "outputs": [],
   "source": [],
   "metadata": {
    "collapsed": false,
    "ExecuteTime": {
     "start_time": "2023-12-27T15:14:33.405688Z"
    }
   }
  }
 ],
 "metadata": {
  "kernelspec": {
   "display_name": "Python 3",
   "language": "python",
   "name": "python3"
  },
  "language_info": {
   "codemirror_mode": {
    "name": "ipython",
    "version": 2
   },
   "file_extension": ".py",
   "mimetype": "text/x-python",
   "name": "python",
   "nbconvert_exporter": "python",
   "pygments_lexer": "ipython2",
   "version": "2.7.6"
  }
 },
 "nbformat": 4,
 "nbformat_minor": 0
}

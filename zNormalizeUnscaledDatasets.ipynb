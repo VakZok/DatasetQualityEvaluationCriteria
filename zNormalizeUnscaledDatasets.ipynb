{
 "cells": [
  {
   "cell_type": "markdown",
   "source": [
    "# Imports"
   ],
   "metadata": {
    "collapsed": false
   },
   "id": "86fa997aa35abdf4"
  },
  {
   "cell_type": "code",
   "execution_count": null,
   "id": "initial_id",
   "metadata": {
    "collapsed": true
   },
   "outputs": [],
   "source": [
    "import os\n",
    "import glob\n",
    "import pandas as pd\n",
    "from sklearn.preprocessing import StandardScaler"
   ]
  },
  {
   "cell_type": "markdown",
   "source": [
    "# Defining necessary methods"
   ],
   "metadata": {
    "collapsed": false
   },
   "id": "80215b389611aed2"
  },
  {
   "cell_type": "code",
   "execution_count": null,
   "outputs": [],
   "source": [
    "def z_normalize(train_data, test_data):\n",
    "    # Extract numeric columns only\n",
    "    numeric_columns = train_data.select_dtypes(include=['float64', 'int64']).columns\n",
    "\n",
    "    # Fit the scaler on the training data\n",
    "    scaler = StandardScaler().fit(train_data[numeric_columns])\n",
    "\n",
    "    # Apply Z-normalization to both training and test data\n",
    "    train_data[numeric_columns] = scaler.transform(train_data[numeric_columns])\n",
    "    test_data[numeric_columns] = scaler.transform(test_data[numeric_columns])\n",
    "\n",
    "    return train_data, test_data\n",
    "\n",
    "def process_tsv(file_path):\n",
    "    # Read TSV file into a DataFrame\n",
    "    df = pd.read_csv(file_path, sep='\\t', header=None)\n",
    "\n",
    "    return df"
   ],
   "metadata": {
    "collapsed": false
   },
   "id": "10ac6bc17cfaf75d"
  },
  {
   "cell_type": "markdown",
   "source": [
    "# Scaling"
   ],
   "metadata": {
    "collapsed": false
   },
   "id": "3d76f51376a6de2e"
  },
  {
   "cell_type": "code",
   "execution_count": null,
   "outputs": [],
   "source": [
    "# Use glob to get a list of TSV file paths in the folder\n",
    "tsv_files = glob.glob(os.path.join(\"UCR_Datasets\", '*.tsv'))\n",
    "\n",
    "# Define unscaled data sets\n",
    "unscaled_train_datasets = ['AllGestureWiimoteX_TRAIN', 'AllGestureWiimoteY_TRAIN', 'AllGestureWiimoteZ_TRAIN', 'DodgerLoopGame_TRAIN', 'DodgerLoopWeekend_TRAIN', 'GestureMidAirD1_TRAIN', 'GestureMidAirD2_TRAIN', 'GestureMidAirD3_TRAIN', 'GesturePebbleZ1_TRAIN', 'GesturePebbleZ2_TRAIN', 'PickupGestureWiimoteZ_TRAIN', 'PLAID_TRAIN', 'ShakeGestureWiimoteZ_TRAIN']\n",
    "\n",
    "# Process and normalize each dataset\n",
    "for dataset_name in unscaled_train_datasets:\n",
    "    train_file_path = os.path.join(\"UCR_Datasets\", f'{dataset_name}.tsv')\n",
    "    test_file_path = os.path.join(\"UCR_Datasets\", f'{dataset_name.replace(\"_TRAIN\", \"_TEST\")}.tsv')\n",
    "\n",
    "    # Process training and test datasets\n",
    "    train_data = process_tsv(train_file_path)\n",
    "    test_data = process_tsv(test_file_path)\n",
    "\n",
    "    # Perform Z-normalization\n",
    "    train_data_normalized, test_data_normalized = z_normalize(train_data.copy(), test_data.copy())\n",
    "\n",
    "    # Save the normalized datasets if needed\n",
    "    train_data_normalized.to_csv(os.path.join('UCR_Datasets', f'{dataset_name}_TRAIN.tsv'), sep='\\t', index=False)\n",
    "    test_data_normalized.to_csv(os.path.join('UCR_Datasets', f'{dataset_name}_TEST.tsv'), sep='\\t', index=False)\n",
    "    \n",
    "    print(dataset_name + ' z-normalized')"
   ],
   "metadata": {
    "collapsed": false
   },
   "id": "c5a49f7b7cb9b1e2"
  },
  {
   "cell_type": "code",
   "execution_count": null,
   "outputs": [],
   "source": [],
   "metadata": {
    "collapsed": false
   },
   "id": "ea8e4c9647b8441c"
  }
 ],
 "metadata": {
  "kernelspec": {
   "display_name": "Python 3",
   "language": "python",
   "name": "python3"
  },
  "language_info": {
   "codemirror_mode": {
    "name": "ipython",
    "version": 2
   },
   "file_extension": ".py",
   "mimetype": "text/x-python",
   "name": "python",
   "nbconvert_exporter": "python",
   "pygments_lexer": "ipython2",
   "version": "2.7.6"
  }
 },
 "nbformat": 4,
 "nbformat_minor": 5
}
